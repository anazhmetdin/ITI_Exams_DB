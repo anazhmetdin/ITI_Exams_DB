{
 "cells": [
  {
   "cell_type": "code",
   "execution_count": 1,
   "metadata": {},
   "outputs": [],
   "source": [
    "import pyodbc\n",
    "cnxn_str = (\"Driver={SQL Server Native Client 11.0};\"\n",
    "            \"Server=.;\"\n",
    "            \"Database=ITI_Exams;\"\n",
    "            \"Trusted_Connection=yes;\")\n",
    "\n",
    "cnxn = pyodbc.connect(cnxn_str)\n",
    "\n",
    "cursor = cnxn.cursor()\n"
   ]
  },
  {
   "attachments": {},
   "cell_type": "markdown",
   "metadata": {},
   "source": [
    "    # 3rd param in execute is course_id change it according to this\n",
    "    \"\"\"\n",
    "    courses = \n",
    "    {\n",
    "        'C++': 1,\n",
    "        'Databases Fundamentals': 2,\n",
    "        'Advanced Database': 2,\n",
    "        'HTML5': 3,\n",
    "        'Javascript Fundamentals': 4,\n",
    "        'Operating Systems': 5\n",
    "    }\n",
    "    \"\"\""
   ]
  },
  {
   "attachments": {},
   "cell_type": "markdown",
   "metadata": {},
   "source": [
    "# 1. MCQ"
   ]
  },
  {
   "cell_type": "code",
   "execution_count": 22,
   "metadata": {},
   "outputs": [],
   "source": [
    "file = open('os mcq.txt', \"r\")\n",
    "lines = file.read().split('$$$$$$\\n')\n",
    "i = 0\n",
    "while i < len(lines):\n",
    "    statment = lines[i]\n",
    "    c1 = lines[i+1]\n",
    "    c2 = lines[i+2]\n",
    "    c3 = lines[i+3]\n",
    "    c4 = lines[i+4]\n",
    "    ans = lines[i+5]\n",
    "    i += 6\n",
    "    \n",
    "    if ans[:-1] == 'a':\n",
    "        ans = 1\n",
    "    elif ans[:-1] == 'b':\n",
    "        ans = 2\n",
    "    elif ans[:-1] == 'c':\n",
    "        ans = 3\n",
    "    elif ans[:-1] == 'd':\n",
    "        ans = 4\n",
    "    \n",
    "    cursor.execute(\n",
    "        f\"\"\"exec InsertQuestionWithChoices \n",
    "        'MCQ',\n",
    "        '{statment[:-1]}',\n",
    "        5,\n",
    "        {ans}, \n",
    "        '{c1[:-1]}',\n",
    "        '{c2[:-1]}',\n",
    "        '{c3[:-1]}',\n",
    "        '{c4[:-1]}';\"\"\")\n"
   ]
  },
  {
   "attachments": {},
   "cell_type": "markdown",
   "metadata": {},
   "source": [
    "# 2. TF"
   ]
  },
  {
   "cell_type": "code",
   "execution_count": 23,
   "metadata": {},
   "outputs": [],
   "source": [
    "file = open('os tf.txt', \"r\")\n",
    "lines = file.read().split('$$$$$$\\n')\n",
    "i = 0\n",
    "while i < len(lines):\n",
    "    statment = lines[i]\n",
    "    ans = lines[i+1]\n",
    "    i += 2\n",
    "\n",
    "    if ans[:-1] == 'a':\n",
    "        ans = 1\n",
    "    elif ans[:-1] == 'b':\n",
    "        ans = 2\n",
    "\n",
    "    cursor.execute(\n",
    "        f\"\"\"exec InsertQuestionWithChoices \n",
    "        'MTF',\n",
    "        '{statment[:-1]}',\n",
    "         1,\n",
    "        {ans},\n",
    "        'True',\n",
    "        'False', NULL, NULL;\"\"\")"
   ]
  },
  {
   "cell_type": "code",
   "execution_count": 21,
   "metadata": {},
   "outputs": [],
   "source": [
    "cnxn.commit()"
   ]
  }
 ],
 "metadata": {
  "kernelspec": {
   "display_name": "Python 3",
   "language": "python",
   "name": "python3"
  },
  "language_info": {
   "codemirror_mode": {
    "name": "ipython",
    "version": 3
   },
   "file_extension": ".py",
   "mimetype": "text/x-python",
   "name": "python",
   "nbconvert_exporter": "python",
   "pygments_lexer": "ipython3",
   "version": "3.10.9"
  },
  "orig_nbformat": 4,
  "vscode": {
   "interpreter": {
    "hash": "43ef180dc804bf3e38d901f73ce1c5f5ffc247396ea722c3f71b1fdc9faed97e"
   }
  }
 },
 "nbformat": 4,
 "nbformat_minor": 2
}
