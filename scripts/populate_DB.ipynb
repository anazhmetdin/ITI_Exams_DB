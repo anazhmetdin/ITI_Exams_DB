{
 "cells": [
  {
   "cell_type": "code",
   "execution_count": 3,
   "id": "f84b2519-ab0a-4f74-80f6-2d5fb69e2ee9",
   "metadata": {},
   "outputs": [
    {
     "name": "stdout",
     "output_type": "stream",
     "text": [
      "Collecting names\n",
      "  Using cached names-0.3.0.tar.gz (789 kB)Collecting pyodbc\n",
      "  Using cached pyodbc-4.0.35-cp310-cp310-win_amd64.whl (66 kB)\n",
      "Installing collected packages: pyodbc\n",
      "Successfully installed pyodbc-4.0.35\n",
      "\n",
      "  Preparing metadata (setup.py): started\n",
      "  Preparing metadata (setup.py): finished with status 'done'\n",
      "Using legacy 'setup.py install' for names, since package 'wheel' is not installed.\n",
      "Installing collected packages: names\n",
      "  Running setup.py install for names: started\n",
      "  Running setup.py install for names: finished with status 'done'"
     ]
    },
    {
     "name": "stderr",
     "output_type": "stream",
     "text": [
      "WARNING: You are using pip version 22.0.3; however, version 22.3.1 is available.\n",
      "You should consider upgrading via the 'C:\\Users\\negm\\AppData\\Local\\Microsoft\\WindowsApps\\PythonSoftwareFoundation.Python.3.10_qbz5n2kfra8p0\\python.exe -m pip install --upgrade pip' command.\n",
      "WARNING: You are using pip version 22.0.3; however, version 22.3.1 is available.\n",
      "You should consider upgrading via the 'C:\\Users\\negm\\AppData\\Local\\Microsoft\\WindowsApps\\PythonSoftwareFoundation.Python.3.10_qbz5n2kfra8p0\\python.exe -m pip install --upgrade pip' command.\n"
     ]
    },
    {
     "name": "stdout",
     "output_type": "stream",
     "text": [
      "\n",
      "Successfully installed names-0.3.0\n"
     ]
    }
   ],
   "source": [
    "! pip install --user pyodbc"
   ]
  },
  {
   "cell_type": "code",
   "execution_count": 2,
   "id": "392d4654-15d7-4b6c-9ef1-a9cff0124848",
   "metadata": {},
   "outputs": [
    {
     "name": "stdout",
     "output_type": "stream",
     "text": [
      "^C\n"
     ]
    }
   ],
   "source": [
    "! pip install --user names"
   ]
  },
  {
   "cell_type": "code",
   "execution_count": 1,
   "id": "a39a123c-9525-43f3-a47c-f40605d43d9e",
   "metadata": {},
   "outputs": [],
   "source": [
    "import pyodbc\n",
    "# import names\n",
    "# import random"
   ]
  },
  {
   "cell_type": "code",
   "execution_count": 2,
   "id": "4cea3a92-0dc9-4191-ba4e-68822bd5d259",
   "metadata": {},
   "outputs": [],
   "source": [
    "cnxn_str = (\"Driver={SQL Server Native Client 11.0};\"\n",
    "            \"Server=.;\"\n",
    "            \"Database=ITI_Exams;\"\n",
    "            \"Trusted_Connection=yes;\")\n",
    "\n",
    "cnxn = pyodbc.connect(cnxn_str)\n",
    "\n",
    "cursor = cnxn.cursor()\n"
   ]
  },
  {
   "cell_type": "code",
   "execution_count": 3,
   "id": "f11f49c9-f66a-4519-83e0-9e9e7ec48f84",
   "metadata": {},
   "outputs": [],
   "source": [
    "topics = {1: ['Inheritance', 'Polymorphisms', 'Abstraction', 'Dynamic Binding'],\n",
    "          2: ['SQL Server', 'RDBMS', 'DB Normailzation', 'ERD'],\n",
    "          3: ['CSS3', 'Semantic Elements', 'CSS Animation'],\n",
    "          4: ['JS objects', 'JS Engine', 'Event Listeners'], \n",
    "          5: ['Process Management', 'File Management', 'Memory Management', 'Network Management']}\n",
    "\n",
    "courses = ['C++',\n",
    "           'Databases Fundamentals',\n",
    "           'HTML5',\n",
    "           'Javascript Fundamentals',\n",
    "           'Operating Systems']\n",
    "\n",
    "instructors = [\n",
    "    'Ahmed Ali',\n",
    "    'Wael Ali',\n",
    "    'Rami Mohamed',\n",
    "    'Hany Alaa',\n",
    "    'Yasser Ali',\n",
    "    'Marwa Ahmed',\n",
    "    'Basma Ali',\n",
    "    'Hadeer Ali',\n",
    "    'Mariam Ibrahim',\n",
    "    'Hagar Ali',\n",
    "    'Mostafa Ali',\n",
    "    'Nada Ali',\n",
    "    'Samy Ali',\n",
    "    'Rami Adel',\n",
    "    'Ahmed Alaa',\n",
    "    'Ahmed Safwat',\n",
    "    'Mohamed Ahmed',\n",
    "    'Basma Wael',\n",
    "    'Ali Youssef',\n",
    "    'Ibrahim Wael',\n",
    "    'Hagar Ali',\n",
    "]\n",
    "\n",
    "students = [\n",
    "    ['Hagar', 'Mostafa', 'F', 1],\n",
    "    ['Sara', 'Mohamed', 'F', 1],\n",
    "    ['Eman', 'Mohammed', 'F', 1],\n",
    "    ['Bassant', 'Mahgoub', 'F', 1],\n",
    "    ['Hafsa', 'Ebrahim', 'F', 1],\n",
    "    ['Dina', 'Samir', 'F', 1],\n",
    "    ['Khaled', 'Ayman', 'M', 1],\n",
    "    ['Ahmed', 'Muhammed', 'M', 1],\n",
    "    ['Ahmed', 'Negmeldin', 'M', 1],\n",
    "    ['Raouf', 'Alaadin', 'M', 1],\n",
    "    ['Karim', 'Eid', 'M', 1],\n",
    "    ['Shrief', 'Hesham', 'M', 1],\n",
    "    ['Abdallah', 'Mohamed', 'M', 1],\n",
    "    ['Mina', 'Yossry', 'M', 1],\n",
    "    ['Hossam', 'Mahmoud', 'M', 1],\n",
    "    ['Maged', 'Samir', 'M', 1],\n",
    "    ['Mohaned', 'Saudi', 'M', 1],\n",
    "    ['Asmaa', 'Mohamed', 'F', 2],\n",
    "    ['Zeinab', 'Mahmoud', 'F', 2],\n",
    "    ['Shahenda', 'Hamdy', 'F', 2],\n",
    "    ['Heba', 'Allah', 'F', 2],\n",
    "    ['Maha', 'Yehia', 'F', 2],\n",
    "    ['Mohamed', 'Refaat', 'M', 2],\n",
    "    ['Youssef', 'Ehab', 'M', 2],\n",
    "    ['Omar', 'Mosaad', 'M', 2],\n",
    "    ['Amr', 'Sherif', 'M', 2],\n",
    "    ['Khaled', 'Magdy', 'M', 2],\n",
    "    ['Mahmoud', 'Sherif', 'M', 2],\n",
    "    ['Mohamed', 'Abdelfattah', 'M', 2],\n",
    "    ['Hesham', 'Essam', 'M', 2],\n",
    "    ['Ahmed', 'Taha', 'M', 2],\n",
    "    ['Ahmed', 'Mohamed', 'M', 2],\n",
    "    ['Mahmoud', 'Hossam', 'M', 2],\n",
    "    ['Mohammed', 'Ahmed', 'M', 2],\n",
    "]\n",
    "\n",
    "departments = ['SWA', 'PD']\n"
   ]
  },
  {
   "cell_type": "code",
   "execution_count": 32,
   "id": "bfd2596b",
   "metadata": {},
   "outputs": [],
   "source": [
    "for department in departments:\n",
    "    cursor.execute(f\"\"\"INSERT INTO Department (name)\n",
    "                       VALUES\n",
    "                       ('{department}');\"\"\")"
   ]
  },
  {
   "cell_type": "code",
   "execution_count": 33,
   "id": "b70499a8",
   "metadata": {},
   "outputs": [],
   "source": [
    "departmentsLen = len(departments)\n",
    "\n",
    "for i, instructor in enumerate(instructors):\n",
    "    cursor.execute(f\"\"\"INSERT INTO Instructor\n",
    "                       VALUES\n",
    "                       ('{instructor}', {(i%departmentsLen)+1});\"\"\")"
   ]
  },
  {
   "cell_type": "code",
   "execution_count": 4,
   "id": "e103a791",
   "metadata": {},
   "outputs": [],
   "source": [
    "for i in range(len(departments)):\n",
    "    cursor.execute(f\"\"\"INSERT INTO Department_Manager\n",
    "                       VALUES\n",
    "                       ({i+1}, {i+1});\"\"\")"
   ]
  },
  {
   "cell_type": "code",
   "execution_count": 34,
   "id": "b3030df6",
   "metadata": {},
   "outputs": [],
   "source": [
    "for course in courses:\n",
    "    cursor.execute(f\"\"\"INSERT INTO Course\n",
    "                       VALUES\n",
    "                       ('{course}');\"\"\")"
   ]
  },
  {
   "cell_type": "code",
   "execution_count": 35,
   "id": "89c11f02-9ee9-4465-9709-e35a5feaf133",
   "metadata": {},
   "outputs": [],
   "source": [
    "for k, v in topics.items():\n",
    "    for topic in v:\n",
    "        cursor.execute(f\"\"\"INSERT INTO Topic\n",
    "                        VALUES\n",
    "                        ('{topic}', '{k}');\"\"\")"
   ]
  },
  {
   "cell_type": "code",
   "execution_count": null,
   "id": "0d040ed9-a99f-4e61-84fc-43111cf24b36",
   "metadata": {},
   "outputs": [],
   "source": [
    "# for i in range (10):\n",
    "#     cursor.execute(f\"\"\"INSERT INTO Instructor\n",
    "#                        (Name)\n",
    "#                        VALUES\n",
    "#                        ('{names.get_full_name()}');\"\"\")"
   ]
  },
  {
   "cell_type": "code",
   "execution_count": null,
   "id": "7298e4f0-e78b-42f7-ada2-5b745097bdac",
   "metadata": {},
   "outputs": [],
   "source": [
    "# for topic in topics:\n",
    "#     cursor.execute(f\"\"\"INSERT INTO Topic\n",
    "#                        (Name)\n",
    "#                        VALUES\n",
    "#                        ('{topic}');\"\"\")"
   ]
  },
  {
   "cell_type": "code",
   "execution_count": null,
   "id": "da47ed5a-3279-46bc-8c17-cc2157e9cbf4",
   "metadata": {},
   "outputs": [],
   "source": [
    "# for course, topic in courses.items():\n",
    "#     cursor.execute(f\"\"\"INSERT INTO Course\n",
    "#                        (Name, Topic_ID)\n",
    "#                        VALUES\n",
    "#                        ('{course}', '{topic}');\"\"\")"
   ]
  },
  {
   "cell_type": "code",
   "execution_count": 10,
   "id": "872a0689-8f3f-4c9c-a997-0de3abddcbe5",
   "metadata": {},
   "outputs": [],
   "source": [
    "coursesLen = len(courses)\n",
    "\n",
    "for i in range(len(instructors)):\n",
    "    cursor.execute(f\"\"\"INSERT INTO Course_Instructor\n",
    "                       (Course_ID, Instructor_ID)\n",
    "                       VALUES\n",
    "                       ('{(i%coursesLen)+1}', '{i+1}');\"\"\")"
   ]
  },
  {
   "cell_type": "code",
   "execution_count": 13,
   "id": "f354ca7c",
   "metadata": {},
   "outputs": [],
   "source": [
    "for i in students:\n",
    "    cursor.execute(f\"\"\"INSERT INTO Student\n",
    "                       (FName, LName, Gender, Department_ID)\n",
    "                       VALUES\n",
    "                       ('{i[0]}', '{i[1]}', '{i[2]}', {i[3]});\"\"\")\n"
   ]
  },
  {
   "cell_type": "code",
   "execution_count": 16,
   "id": "002e0255",
   "metadata": {},
   "outputs": [],
   "source": [
    "for i in range(len(students)):\n",
    "    cursor.execute(f\"\"\"INSERT INTO Student_Course\n",
    "                       VALUES\n",
    "                       ({i+1}, {1}),\n",
    "                       ({i+1}, {2}),\n",
    "                       ({i+1}, {3}),\n",
    "                       ({i+1}, {4}),\n",
    "                       ({i+1}, {5});\"\"\")\n"
   ]
  },
  {
   "cell_type": "code",
   "execution_count": 5,
   "id": "6f59689c-5c1c-4f41-907d-fa99d45a53bc",
   "metadata": {},
   "outputs": [],
   "source": [
    "cnxn.commit()"
   ]
  },
  {
   "cell_type": "code",
   "execution_count": null,
   "id": "e6de5628-1d7b-4190-a3f2-aac2bb1ee47d",
   "metadata": {},
   "outputs": [],
   "source": []
  }
 ],
 "metadata": {
  "kernelspec": {
   "display_name": "Python 3",
   "language": "python",
   "name": "python3"
  },
  "language_info": {
   "codemirror_mode": {
    "name": "ipython",
    "version": 3
   },
   "file_extension": ".py",
   "mimetype": "text/x-python",
   "name": "python",
   "nbconvert_exporter": "python",
   "pygments_lexer": "ipython3",
   "version": "3.10.9"
  },
  "vscode": {
   "interpreter": {
    "hash": "43ef180dc804bf3e38d901f73ce1c5f5ffc247396ea722c3f71b1fdc9faed97e"
   }
  }
 },
 "nbformat": 4,
 "nbformat_minor": 5
}
